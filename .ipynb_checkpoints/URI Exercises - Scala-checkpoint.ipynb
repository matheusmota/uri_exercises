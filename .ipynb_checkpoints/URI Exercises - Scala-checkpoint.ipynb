{
 "cells": [
  {
   "cell_type": "markdown",
   "metadata": {},
   "source": [
    "## 1045"
   ]
  },
  {
   "cell_type": "code",
   "execution_count": null,
   "metadata": {
    "collapsed": true
   },
   "outputs": [],
   "source": []
  },
  {
   "cell_type": "markdown",
   "metadata": {},
   "source": [
    "## 1001"
   ]
  },
  {
   "cell_type": "code",
   "execution_count": 4,
   "metadata": {},
   "outputs": [
    {
     "ename": "",
     "evalue": "",
     "output_type": "error",
     "traceback": [
      "<console>:1: identifier expected but string literal found.",
      "Main.main(Array[\"1\", \"2\"])",
      "                ^",
      "<console>:1: ']' expected but eof found.",
      "Main.main(Array[\"1\", \"2\"])",
      "                          ^"
     ]
    }
   ],
   "source": [
    "\n",
    "object Main {\n",
    "\n",
    "    def main(args: Array[String]) {\n",
    "        \n",
    "        val a=scala.io.StdIn.readInt()\n",
    "        val b=scala.io.StdIn.readInt()\n",
    "        println(\"X = \" + (a + b))\n",
    "\n",
    "    }\n",
    "\n",
    "}\n",
    "Main.main(Array[\"1\", \"2\"])"
   ]
  },
  {
   "cell_type": "code",
   "execution_count": 5,
   "metadata": {},
   "outputs": [
    {
     "data": {
      "text/plain": [
       "\u001b[32mimport \u001b[39m\u001b[36mjava.util.Scanner\n",
       "\n",
       "// simulated input\n",
       "\u001b[39m\n",
       "\u001b[36minput\u001b[39m: \u001b[32mString\u001b[39m = \u001b[32m\"Joe 33 200.0\"\u001b[39m\n",
       "\u001b[36mline\u001b[39m: \u001b[32mjava\u001b[39m.\u001b[32mutil\u001b[39m.\u001b[32mScanner\u001b[39m = java.util.Scanner[delimiters=\\p{javaWhitespace}+][position=12][match valid=true][need input=false][source closed=true][skipped=false][group separator=\\,][decimal separator=\\.][positive prefix=][negative prefix=\\Q-\\E][positive suffix=][negative suffix=][NaN string=\\Q�\\E][infinity string=\\Q∞\\E]\n",
       "\u001b[36mname\u001b[39m: \u001b[32mString\u001b[39m = \u001b[32m\"Joe\"\u001b[39m\n",
       "\u001b[36mage\u001b[39m: \u001b[32mInt\u001b[39m = \u001b[32m33\u001b[39m\n",
       "\u001b[36mweight\u001b[39m: \u001b[32mDouble\u001b[39m = \u001b[32m200.0\u001b[39m"
      ]
     },
     "execution_count": 5,
     "metadata": {},
     "output_type": "execute_result"
    }
   ],
   "source": [
    "import java.util.Scanner\n",
    "\n",
    "// simulated input\n",
    "val input = \"Joe 33 200.0\"\n",
    "val line = new Scanner(input)\n",
    "val name = line.next\n",
    "val age = line.nextInt\n",
    "\n",
    "val weight = line.nextDouble"
   ]
  },
  {
   "cell_type": "code",
   "execution_count": 6,
   "metadata": {},
   "outputs": [
    {
     "ename": "",
     "evalue": "",
     "output_type": "error",
     "traceback": [
      "\u001b[31mjava.util.NoSuchElementException\u001b[39m",
      "  java.util.Scanner.throwFor(\u001b[32mScanner.java\u001b[39m:\u001b[32m862\u001b[39m)",
      "  java.util.Scanner.next(\u001b[32mScanner.java\u001b[39m:\u001b[32m1485\u001b[39m)",
      "  java.util.Scanner.nextDouble(\u001b[32mScanner.java\u001b[39m:\u001b[32m2413\u001b[39m)",
      "  $sess.cmd5Wrapper$Helper.<init>(\u001b[32mcmd5.sc\u001b[39m:\u001b[32m4\u001b[39m)",
      "  $sess.cmd5Wrapper.<init>(\u001b[32mcmd5.sc\u001b[39m:\u001b[32m142\u001b[39m)",
      "  $sess.cmd5$.<init>(\u001b[32mcmd5.sc\u001b[39m:\u001b[32m88\u001b[39m)",
      "  $sess.cmd5$.<clinit>(\u001b[32mcmd5.sc\u001b[39m:\u001b[32m-1\u001b[39m)"
     ]
    }
   ],
   "source": [
    "import java.util.Scanner\n",
    "\n",
    "val sc = new Scanner(System.in)\n",
    "val R = sc.nextDouble()\n",
    "val A = 3.14159 * R * R\n",
    "System.out.print(A + \"\\n\")"
   ]
  },
  {
   "cell_type": "code",
   "execution_count": null,
   "metadata": {
    "collapsed": true
   },
   "outputs": [],
   "source": []
  },
  {
   "cell_type": "code",
   "execution_count": 1,
   "metadata": {},
   "outputs": [
    {
     "name": "stdout",
     "output_type": "stream",
     "text": [
      "Type something : \n",
      "Did you type this ? null\n"
     ]
    },
    {
     "data": {
      "text/plain": [
       "\u001b[36minput\u001b[39m: \u001b[32mString\u001b[39m = null"
      ]
     },
     "execution_count": 1,
     "metadata": {},
     "output_type": "execute_result"
    }
   ],
   "source": [
    "\n",
    "\n",
    "println(\"Type something : \")\n",
    "val input = scala.io.StdIn.readLine()\n",
    "println(\"Did you type this ? \" + input)"
   ]
  },
  {
   "cell_type": "code",
   "execution_count": 2,
   "metadata": {},
   "outputs": [
    {
     "name": "stdout",
     "output_type": "stream",
     "text": [
      "What do you say? You said: 'null'\n"
     ]
    },
    {
     "data": {
      "text/plain": [
       "\u001b[32mimport \u001b[39m\u001b[36mscala.io.StdIn.{readLine,readInt}\n",
       "\u001b[39m\n",
       "\u001b[36ms\u001b[39m: \u001b[32mString\u001b[39m = null"
      ]
     },
     "execution_count": 2,
     "metadata": {},
     "output_type": "execute_result"
    }
   ],
   "source": [
    "\n",
    "import scala.io.StdIn.{readLine,readInt}\n",
    "val s = readLine(\"What do you say? \")\n",
    "println(\"You said: '\" + s + \"'\")"
   ]
  }
 ],
 "metadata": {
  "kernelspec": {
   "display_name": "Scala",
   "language": "scala",
   "name": "scala"
  },
  "language_info": {
   "codemirror_mode": "text/x-scala",
   "file_extension": ".scala",
   "mimetype": "text/x-scala",
   "name": "scala211",
   "nbconvert_exporter": "script",
   "pygments_lexer": "scala",
   "version": "2.11.11"
  }
 },
 "nbformat": 4,
 "nbformat_minor": 2
}
