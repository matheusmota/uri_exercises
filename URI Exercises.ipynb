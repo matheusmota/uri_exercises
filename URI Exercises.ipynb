{
 "cells": [
  {
   "cell_type": "code",
   "execution_count": null,
   "metadata": {
    "collapsed": true
   },
   "outputs": [],
   "source": []
  },
  {
   "cell_type": "code",
   "execution_count": null,
   "metadata": {
    "collapsed": true
   },
   "outputs": [],
   "source": []
  },
  {
   "cell_type": "markdown",
   "metadata": {},
   "source": [
    "## 1043"
   ]
  },
  {
   "cell_type": "code",
   "execution_count": 4,
   "metadata": {},
   "outputs": [
    {
     "name": "stdout",
     "output_type": "stream",
     "text": [
      " 6.0 4.0 2.1\n",
      "Perimetro = 12.1\n"
     ]
    }
   ],
   "source": [
    "a, b, c= [float(i) for i in input().split()]\n",
    "\n",
    "if (a < (b + c) and b < (a + c) and c < (a + b)):\n",
    "    print(\"Perimetro = {0:.1f}\".format(a + b + c))\n",
    "else:\n",
    "    print(\"Area = {0:.1f}\".format(((a + b) * c) / 2))"
   ]
  },
  {
   "cell_type": "markdown",
   "metadata": {},
   "source": [
    "## 1042"
   ]
  },
  {
   "cell_type": "code",
   "execution_count": 9,
   "metadata": {},
   "outputs": [
    {
     "name": "stdout",
     "output_type": "stream",
     "text": [
      " -14 21 7\n",
      "-14\n",
      "7\n",
      "21\n",
      "\n",
      "-14\n",
      "21\n",
      "7\n"
     ]
    }
   ],
   "source": [
    "nums = [int(i) for i in input().split()]\n",
    "originalNums = nums.copy()\n",
    "for i, num in enumerate(nums):\n",
    "        for j, numj in enumerate(nums):\n",
    "            if(num < numj):\n",
    "                aux = numj\n",
    "                nums[j] = nums[i]\n",
    "                nums[i] = aux\n",
    "                \n",
    "                \n",
    "\n",
    "print(nums[0])\n",
    "print(nums[1])\n",
    "print(nums[2])\n",
    "print()\n",
    "print(originalNums[0])\n",
    "print(originalNums[1])\n",
    "print(originalNums[2])\n",
    "\n"
   ]
  },
  {
   "cell_type": "markdown",
   "metadata": {},
   "source": [
    "## 1041"
   ]
  },
  {
   "cell_type": "code",
   "execution_count": null,
   "metadata": {
    "collapsed": true
   },
   "outputs": [],
   "source": [
    "x, y = [float(i) for i in input().split()]\n",
    "\n",
    "if (x == 0 and y == 0):\n",
    "    print(\"Origem\")\n",
    "elif (y == 0):\n",
    "    print(\"Eixo X\")\n",
    "elif (x == 0):\n",
    "    print(\"Eixo Y\")\n",
    "elif (x > 0 and y > 0):\n",
    "    print(\"Q1\")\n",
    "elif (x > 0 and y < 0):\n",
    "    print(\"Q4\")\n",
    "elif (x < 0 and y > 0):\n",
    "    print(\"Q2\")\n",
    "elif (x < 0 and y < 0):\n",
    "    print(\"Q3\")\n",
    "\n"
   ]
  },
  {
   "cell_type": "markdown",
   "metadata": {},
   "source": [
    "## 1040\n"
   ]
  },
  {
   "cell_type": "code",
   "execution_count": null,
   "metadata": {
    "collapsed": true
   },
   "outputs": [],
   "source": [
    "n1, n2, n3, n4 = [float(i) for i in input().split()]\n",
    "\n",
    "media = ((n1 * 2) + (n2 * 3) + (n3 * 4) + (n4 * 1) ) / 10\n",
    "\n",
    "print(\"Media: {0:.1f}\".format(media))\n",
    "\n",
    "if(media >= 7):\n",
    "    print(\"Aluno aprovado.\")\n",
    "else:\n",
    "    if(media < 5):\n",
    "        \n",
    "        print(\"Aluno reprovado.\")\n",
    "        \n",
    "    else:\n",
    "        print(\"Aluno em exame.\")\n",
    "        \n",
    "        nExame = float(input())\n",
    "        \n",
    "        print(\"Nota do exame: {0:.1f}\".format(nExame))\n",
    "        \n",
    "        mediaFinal = (media + nExame) / 2\n",
    "        \n",
    "        if(mediaFinal  >= 5):\n",
    "            print(\"Aluno aprovado.\")\n",
    "        else:\n",
    "            print(\"Aluno reprovado.\")\n",
    "        \n",
    "        print(\"Media final: {0:.1f}\".format(mediaFinal))\n",
    "\n",
    "            \n",
    "\n",
    "    "
   ]
  },
  {
   "cell_type": "markdown",
   "metadata": {},
   "source": [
    "# 1038"
   ]
  },
  {
   "cell_type": "code",
   "execution_count": null,
   "metadata": {
    "collapsed": true
   },
   "outputs": [],
   "source": [
    "i, t = [int(i) for i in input().split()]\n",
    "\n",
    "prices = [4.0, 4.5,  5.0, 2.0, 1.5]\n",
    "print(\"Total: R$ {0:.2f}\".format(prices[i-1]*t))"
   ]
  },
  {
   "cell_type": "markdown",
   "metadata": {},
   "source": [
    "## 1037\n",
    "\n",
    "You must make a program that read a float-point number and print a message saying in which of following intervals the number belongs: [0,25] (25,50], (50,75], (75,100]. If the read number is less than zero or greather than 100, the program must print the message “Fora de intervalo” that means \"Out of Interval\".\n",
    "The symbol '(' represents greather than. For example:\n",
    "\n",
    "[0,25] indicates numbers between 0 and 25.0000, including both.\n",
    "(25,50] indicates numbers greather than 25 (25.00001) up to 50.0000000.\n",
    "\n",
    "Input: The input file contains a floating-point number.\n",
    "\n",
    "Output:The output must be a message like following example.\n"
   ]
  },
  {
   "cell_type": "code",
   "execution_count": null,
   "metadata": {
    "collapsed": true
   },
   "outputs": [],
   "source": [
    "a = float(input())\n",
    "\n",
    "if(a >= 0 and a <= 25 ):\n",
    "    print(\"Intervalo [0,25]\")\n",
    "else:\n",
    "    if(a > 25 and a <= 50 ):\n",
    "        print(\"Intervalo (25,50]\")\n",
    "    else:\n",
    "        if(a > 50 and a <= 75 ):\n",
    "            print(\"Intervalo (50,75]\")\n",
    "        else:\n",
    "            if(a > 75 and a <= 100 ):\n",
    "                print(\"Intervalo (75,100]\")\n",
    "            else:\n",
    "                print(\"Fora de intervalo\")\n",
    "\n",
    "\n",
    "\n",
    "    \n"
   ]
  },
  {
   "cell_type": "markdown",
   "metadata": {},
   "source": [
    "## 1036\n",
    "\n",
    "\n",
    "Read 3 floating-point numbers. After, print the roots of bhaskara’s formula. If it's impossible to calculate the roots because a division by zero or a square root of a negative number, presents the message “Impossivel calcular”.\n",
    "\n",
    "Input: Read 3 floating-point numbers A, B and C.\n",
    "\n",
    "Output: Print the result with 5 digits after the decimal point or the message if it is impossible to calculate.\n"
   ]
  },
  {
   "cell_type": "code",
   "execution_count": null,
   "metadata": {
    "collapsed": true
   },
   "outputs": [],
   "source": [
    "import math \n",
    "\n",
    "a, b, c = [float(i) for i in input().split()]\n",
    "\n",
    "d=(pow(b,2)-(4*a*c))\n",
    "\n",
    "if(a!=0 and d>0):\n",
    "    r1 = ( -b + math.sqrt(d) ) / ( 2 * a)\n",
    "    r2 = ( -b - math.sqrt(d) ) / ( 2 * a)\n",
    "    \n",
    "    print(\"R1 = {0:.5f}\".format(r1))\n",
    "    print(\"R2 = {0:.5f}\".format(r2))\n",
    "else:\n",
    "    print(\"Impossivel calcular\")"
   ]
  },
  {
   "cell_type": "markdown",
   "metadata": {},
   "source": [
    "## 1035\n",
    "**Description:** Read 4 integer values A, B, C and D. Then if B is greater than C and D is greater than A and if the sum of C and D is greater than the sum of A and B and if C and D were positives values and if A is even, write the message “Valores aceitos” (Accepted values). Otherwise, write the message “Valores nao aceitos” (Values not accepted)."
   ]
  },
  {
   "cell_type": "code",
   "execution_count": null,
   "metadata": {
    "collapsed": true
   },
   "outputs": [],
   "source": [
    "a, b, c, d = [int(i) for i in input().split()]\n",
    "\n",
    "if((b > c) and (d > a) and ((c + d) > (a + b)) and ((c > 0) and (d > 0))):\n",
    "    print(\"Valores aceitos\")\n",
    "else:\n",
    "    print(\"Valores nao aceitos\")\n",
    "    "
   ]
  }
 ],
 "metadata": {
  "kernelspec": {
   "display_name": "Python 3",
   "language": "python",
   "name": "python3"
  },
  "language_info": {
   "codemirror_mode": {
    "name": "ipython",
    "version": 3
   },
   "file_extension": ".py",
   "mimetype": "text/x-python",
   "name": "python",
   "nbconvert_exporter": "python",
   "pygments_lexer": "ipython3",
   "version": "3.6.1"
  }
 },
 "nbformat": 4,
 "nbformat_minor": 2
}
